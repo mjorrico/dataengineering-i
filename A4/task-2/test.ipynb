{
 "cells": [
  {
   "cell_type": "code",
   "execution_count": 1,
   "id": "75826d45",
   "metadata": {},
   "outputs": [],
   "source": [
    "from pyspark.sql import SparkSession\n",
    "from operator import add\n",
    "import string\n",
    "import re"
   ]
  },
  {
   "cell_type": "code",
   "execution_count": 2,
   "id": "cc34be7b",
   "metadata": {
    "scrolled": true
   },
   "outputs": [
    {
     "name": "stderr",
     "output_type": "stream",
     "text": [
      "Setting default log level to \"WARN\".\n",
      "To adjust logging level use sc.setLogLevel(newLevel). For SparkR, use setLogLevel(newLevel).\n"
     ]
    },
    {
     "name": "stdout",
     "output_type": "stream",
     "text": [
      "23/02/28 13:22:18 WARN NativeCodeLoader: Unable to load native-hadoop library for your platform... using builtin-java classes where applicable\n"
     ]
    }
   ],
   "source": [
    "spark_session = (\n",
    "    SparkSession.builder.master(\"spark://localhost:7077\")\n",
    "    .appName(\"MJEnrico_A3_A\")\n",
    "#     .config(\"spark.dynamicAllocation.enabled\", True)\n",
    "#     .config(\"spark.dynamicAllocation.shuffleTracking.enabled\", True)\n",
    "#     .config(\"spark.dynamicAllocation.executorIdleTimeout\", \"30s\")\n",
    "#     .config(\"spark.shuffle.service.enabled\", True)\n",
    "    .config(\"spark.cores.max\", 4)\n",
    "    .getOrCreate()\n",
    ")\n",
    "\n",
    "spark_context = spark_session.sparkContext\n",
    "spark_context.setLogLevel(\"ERROR\")"
   ]
  },
  {
   "cell_type": "code",
   "execution_count": 3,
   "id": "c80c1fc2",
   "metadata": {},
   "outputs": [
    {
     "name": "stderr",
     "output_type": "stream",
     "text": [
      "                                                                                \r"
     ]
    },
    {
     "data": {
      "text/plain": [
       "[(0, 10),\n",
       " (1, 9),\n",
       " (2, 10),\n",
       " (3, 13),\n",
       " (4, 18),\n",
       " (5, 25),\n",
       " (6, 34),\n",
       " (7, 45),\n",
       " (8, 58),\n",
       " (9, 73)]"
      ]
     },
     "execution_count": 3,
     "metadata": {},
     "output_type": "execute_result"
    }
   ],
   "source": [
    "dat = spark_context.parallelize([(i) for i in range(10)])\n",
    "dat = dat.map(lambda x: (x, x**2 - 2*x + 10))\n",
    "dat.collect()"
   ]
  },
  {
   "cell_type": "code",
   "execution_count": 4,
   "id": "18d95ea6",
   "metadata": {},
   "outputs": [
    {
     "name": "stdout",
     "output_type": "stream",
     "text": [
      "340\n"
     ]
    }
   ],
   "source": [
    "dat = dat.flatMap(lambda x: list(x)).reduce(add)\n",
    "print(dat)"
   ]
  },
  {
   "cell_type": "code",
   "execution_count": 5,
   "id": "438b681f",
   "metadata": {},
   "outputs": [],
   "source": [
    "spark_context.stop()"
   ]
  }
 ],
 "metadata": {
  "kernelspec": {
   "display_name": "Python 3 (ipykernel)",
   "language": "python",
   "name": "python3"
  },
  "language_info": {
   "codemirror_mode": {
    "name": "ipython",
    "version": 3
   },
   "file_extension": ".py",
   "mimetype": "text/x-python",
   "name": "python",
   "nbconvert_exporter": "python",
   "pygments_lexer": "ipython3",
   "version": "3.10.6"
  }
 },
 "nbformat": 4,
 "nbformat_minor": 5
}
